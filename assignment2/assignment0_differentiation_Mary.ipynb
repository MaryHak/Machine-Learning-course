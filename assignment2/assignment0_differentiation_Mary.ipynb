{
 "cells": [
  {
   "cell_type": "markdown",
   "metadata": {},
   "source": [
    "# Differentiation "
   ]
  },
  {
   "cell_type": "markdown",
   "metadata": {},
   "source": [
    "Since it easy to google every task please please try to undestand what's going on. The \"just answer\" thing will be not counted, make sure to present derivation of your solution. It is absolutely OK if you found an answer on web then just exercise in $\\LaTeX$ copying it into here."
   ]
  },
  {
   "cell_type": "markdown",
   "metadata": {},
   "source": [
    "Useful links: \n",
    "[1](http://www.machinelearning.ru/wiki/images/2/2a/Matrix-Gauss.pdf)\n",
    "[2](http://www.atmos.washington.edu/~dennis/MatrixCalculus.pdf)\n",
    "[3](http://cal.cs.illinois.edu/~johannes/research/matrix%20calculus.pdf)"
   ]
  },
  {
   "cell_type": "markdown",
   "metadata": {},
   "source": [
    "## ex. 1"
   ]
  },
  {
   "cell_type": "markdown",
   "metadata": {},
   "source": [
    "$$  \n",
    "y = x^Tx,  \\quad x \\in \\mathbb{R}^N \n",
    "$$"
   ]
  },
  {
   "cell_type": "markdown",
   "metadata": {},
   "source": [
    "$$\n",
    "y = \\begin{pmatrix}x_{1}, x_{2}, \\dots , x_{N}\\end{pmatrix}\\begin{pmatrix}\n",
    "           x_{1} \\\\\n",
    "           x_{2} \\\\\n",
    "           \\vdots \\\\\n",
    "           x_{m}\n",
    "         \\end{pmatrix} = \\sum_{i=1}^{N} x_{i}^2 = x_{1}^2 + x_{2}^2 + \\dots + x_{N}^2\n",
    "$$"
   ]
  },
  {
   "cell_type": "markdown",
   "metadata": {},
   "source": [
    "$$\n",
    "\\frac{\\partial y}{\\partial x} = \\begin{pmatrix}\\frac{\\partial (x_{1}^2 + x_{2}^2 + \\dots + x_{N}^2)}{\\partial x_{1}}, \\frac{\\partial (x_{1}^2 + x_{2}^2 + \\dots + x_{N}^2)}{\\partial x_{2}}, \\dots , \\frac{\\partial (x_{1}^2 + x_{2}^2 + \\dots + x_{N}^2)}{\\partial x_{N}}\\end{pmatrix} = \\begin{pmatrix}2x_{1}, 2x_{2}, \\dots , 2x_{N}\\end{pmatrix} = 2x^T\n",
    "$$"
   ]
  },
  {
   "cell_type": "markdown",
   "metadata": {},
   "source": [
    "## ex. 2"
   ]
  },
  {
   "cell_type": "markdown",
   "metadata": {},
   "source": [
    "$$ y = tr(AB) \\quad A,B \\in \\mathbb{R}^{N \\times N} $$ "
   ]
  },
  {
   "cell_type": "markdown",
   "metadata": {},
   "source": [
    "$$\n",
    "AB = \\begin{pmatrix}\n",
    "    a_{11} & a_{12} & \\dots  & a_{1N} \\\\\n",
    "    a_{21} & a_{22} & \\dots  & a_{2N} \\\\\n",
    "    \\vdots & \\vdots & \\ddots & \\vdots \\\\\n",
    "    a_{N1} & a_{N2} & \\dots  & a_{NN}\n",
    "\\end{pmatrix}\n",
    "\\begin{pmatrix}\n",
    "    b_{11} & b_{12} & \\dots  & b_{1N} \\\\\n",
    "    b_{21} & b_{22} & \\dots  & b_{2N} \\\\\n",
    "    \\vdots & \\vdots & \\ddots & \\vdots \\\\\n",
    "    b_{N1} & b_{N2} & \\dots  & b_{NN}\n",
    "\\end{pmatrix} = \n",
    "\\begin{pmatrix}\n",
    "      \\sum_{i=1}^{N} a_{1i}b_{i1} & \\sum_{i=1}^{N} a_{1i}b_{i2} & \\dots & \\sum_{i=1}^{N} a_{1i}b_{iN} \\\\\n",
    "      \\sum_{i=1}^{N} a_{2i}b_{i1} & \\sum_{i=1}^{N} a_{2i}b_{i2} & \\dots & \\sum_{i=1}^{N} a_{2i}b_{iN} \\\\\n",
    "      \\vdots & \\vdots & \\ddots & \\vdots \\\\\n",
    "      \\sum_{i=1}^{N} a_{Ni}b_{i1} & \\sum_{i=1}^{N} a_{Ni}b_{i2} & \\dots & \\sum_{i=1}^{N} a_{Ni}b_{iN}\n",
    "  \\end{pmatrix}\n",
    "$$"
   ]
  },
  {
   "cell_type": "markdown",
   "metadata": {},
   "source": [
    "$$\n",
    "y = tr(AB) = \\sum_{i=1}^{N} a_{1i}b_{i1} + \\sum_{i=1}^{N} a_{2i}b_{i2} + \\dots + \\sum_{i=1}^{N} a_{Ni}b_{iN}\n",
    "$$"
   ]
  },
  {
   "cell_type": "markdown",
   "metadata": {},
   "source": [
    "$$\n",
    "\\frac{\\partial y}{\\partial a_{ij}} = b_{ji}\n",
    "$$\n",
    "\n",
    "$$\n",
    "\\frac{dy}{dA} = \n",
    "\\begin{pmatrix}\n",
    "\\frac{\\partial y}{\\partial a_{11}} & \\frac{\\partial y}{\\partial a_{12}} & \\dots & \\frac{\\partial y}{\\partial a_{1N}} \\\\\n",
    "\\frac{\\partial y}{\\partial a_{21}} & \\frac{\\partial y}{\\partial a_{22}} & \\dots & \\frac{\\partial y}{\\partial a_{2N}} \\\\\n",
    "\\vdots & \\vdots & \\ddots & \\vdots \\\\\n",
    "\\frac{\\partial y}{\\partial a_{N1}} & \\frac{\\partial y}{\\partial a_{N2}} & \\dots & \\frac{\\partial y}{\\partial a_{NN}}\n",
    "\\end{pmatrix} = \n",
    "\\begin{pmatrix}\n",
    "    b_{11} & b_{21} & \\dots  & b_{N1} \\\\\n",
    "    b_{12} & b_{22} & \\dots  & b_{N2} \\\\\n",
    "    \\vdots & \\vdots & \\ddots & \\vdots \\\\\n",
    "    b_{1N} & b_{2N} & \\dots  & b_{NN}\n",
    "\\end{pmatrix} = B^T\n",
    "$$"
   ]
  },
  {
   "cell_type": "markdown",
   "metadata": {},
   "source": [
    "## ex. 3"
   ]
  },
  {
   "cell_type": "markdown",
   "metadata": {},
   "source": [
    "$$  \n",
    "y = x^TAc , \\quad A\\in \\mathbb{R}^{N \\times N}, x\\in \\mathbb{R}^{N}, c\\in \\mathbb{R}^{N} \n",
    "$$"
   ]
  },
  {
   "cell_type": "markdown",
   "metadata": {},
   "source": [
    "$$\n",
    "y = \\begin{pmatrix}x_{1}, x_{2}, \\dots, x_{N}\\end{pmatrix}\\begin{pmatrix}\n",
    "    a_{11} & a_{12} & \\dots  & a_{1N} \\\\\n",
    "    a_{21} & a_{22} & \\dots  & a_{2N} \\\\\n",
    "    \\vdots & \\vdots & \\ddots & \\vdots \\\\\n",
    "    a_{N1} & a_{N2} & \\dots  & a_{NN}\n",
    "\\end{pmatrix}\n",
    "\\begin{pmatrix}\n",
    "    c_{1} \\\\\n",
    "    c_{2} \\\\\n",
    "    \\vdots \\\\\n",
    "    c_{N}\n",
    "\\end{pmatrix} = \n",
    "\\begin{pmatrix}\\sum_{i=1}^{N}x_{i}a_{i1}, \\sum_{i=1}^{N}x_{i}a_{i2}, \\dots, \\sum_{i=1}^{N}x_{i}a_{iN}\\end{pmatrix}\n",
    "\\begin{pmatrix}c_{1} \\\\\n",
    "c_{2} \\\\\n",
    "\\vdots \\\\\n",
    "c_{N}\n",
    "\\end{pmatrix} = \n",
    "\\sum_{j=1}^{N}\\sum_{i=1}^{N}x_{i}a_{ij}c_{j}\n",
    "$$"
   ]
  },
  {
   "cell_type": "markdown",
   "metadata": {},
   "source": [
    "$$\n",
    "\\frac{dy}{dA} = \n",
    "\\begin{pmatrix}\n",
    "\\frac{\\partial y}{\\partial a_{11}} & \\frac{\\partial y}{\\partial a_{12}} & \\dots & \\frac{\\partial y}{\\partial a_{1N}} \\\\\n",
    "\\frac{\\partial y}{\\partial a_{21}} & \\frac{\\partial y}{\\partial a_{22}} & \\dots & \\frac{\\partial y}{\\partial a_{2N}} \\\\\n",
    "\\vdots & \\vdots & \\ddots & \\vdots \\\\\n",
    "\\frac{\\partial y}{\\partial a_{N1}} & \\frac{\\partial y}{\\partial a_{N2}} & \\dots & \\frac{\\partial y}{\\partial a_{NN}}\n",
    "\\end{pmatrix} = \n",
    "\\begin{pmatrix}\n",
    "x_{1}c_{1} & x_{1}c_{2} & \\dots & x_{1}c_{N} \\\\\n",
    "x_{2}c_{1} & x_{2}c_{2} & \\dots & x_{2}c_{N} \\\\\n",
    "\\vdots & \\vdots & \\ddots & \\vdots \\\\\n",
    "x_{N}c_{1} & x_{N}c_{2} & \\dots & x_{N}c_{N} \\\\\n",
    "\\end{pmatrix} = xc^T\n",
    "$$ "
   ]
  },
  {
   "cell_type": "markdown",
   "metadata": {},
   "source": [
    "## ex. 4"
   ]
  },
  {
   "cell_type": "markdown",
   "metadata": {},
   "source": [
    "Classic matrix factorization example. Given matrix $X$ you need to find $A$, $S$ to approximate $X$. This can be done by simple gradient descent iteratively alternating $A$ and $S$ updates.\n",
    "$$\n",
    "J = || X - AS ||_2^2  , \\quad A\\in \\mathbb{R}^{N \\times R} , \\quad S\\in \\mathbb{R}^{R \\times M}\n",
    "$$"
   ]
  },
  {
   "cell_type": "markdown",
   "metadata": {},
   "source": [
    "$$\n",
    "\\frac{dJ}{dS} = ?\n",
    "$$"
   ]
  },
  {
   "cell_type": "markdown",
   "metadata": {},
   "source": [
    "### First approach\n",
    "Using ex.2 and the fact:\n",
    "$$\n",
    "|| X ||_2^2 = tr(XX^T) \n",
    "$$ \n",
    "it is easy to derive gradients (you can find it in one of the refs). "
   ]
  },
  {
   "cell_type": "markdown",
   "metadata": {
    "collapsed": true
   },
   "source": [
    "### Second approach\n",
    "You can use *slightly different techniques* if they suits you. Take a look at this derivation:\n",
    "![](../imgs/grad.png)\n",
    "\n",
    "(excerpt from [Handbook of blind source separation, Jutten, page 517](https://books.google.ru/books?id=PTbj03bYH6kC&printsec=frontcover&dq=Handbook+of+Blind+Source+Separation&hl=en&sa=X&ved=0ahUKEwi-q_apiJDLAhULvXIKHVXJDWcQ6AEIHDAA#v=onepage&q=Handbook%20of%20Blind%20Source%20Separation&f=false), open for better picture)."
   ]
  },
  {
   "cell_type": "markdown",
   "metadata": {},
   "source": [
    "### Third approach\n",
    "And finally we can use chain rule! **YOUR TURN** to do it.\n",
    "let $ F = AS $ \n",
    "\n",
    "**Find**"
   ]
  },
  {
   "cell_type": "markdown",
   "metadata": {},
   "source": [
    "$$\n",
    "\\frac{dJ}{dF} = ?\n",
    "$$ "
   ]
  },
  {
   "cell_type": "markdown",
   "metadata": {},
   "source": [
    "and \n",
    "$$\n",
    "\\frac{dF}{dS} = ?\n",
    "$$ \n",
    "(the shape should be $ NM \\times RM )$."
   ]
  },
  {
   "cell_type": "markdown",
   "metadata": {
    "collapsed": true
   },
   "source": [
    "Now it is easy do get desired gradients:\n",
    "$$\n",
    "\\frac{dJ}{dS} = ?\n",
    "$$ "
   ]
  }
 ],
 "metadata": {
  "kernelspec": {
   "display_name": "Python 3",
   "language": "python",
   "name": "python3"
  },
  "language_info": {
   "codemirror_mode": {
    "name": "ipython",
    "version": 3
   },
   "file_extension": ".py",
   "mimetype": "text/x-python",
   "name": "python",
   "nbconvert_exporter": "python",
   "pygments_lexer": "ipython3",
   "version": "3.5.2"
  }
 },
 "nbformat": 4,
 "nbformat_minor": 1
}
