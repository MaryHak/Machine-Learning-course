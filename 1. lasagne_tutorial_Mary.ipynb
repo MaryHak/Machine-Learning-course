{
 "cells": [
  {
   "cell_type": "markdown",
   "metadata": {},
   "source": [
    "# lasagne\n",
    "* lasagne is a library for neural network building and training\n",
    "* it's a low-level library with almost seamless integration with theano\n",
    "\n",
    "For a demo we shall solve the same digit recognition problem, but at a different scale\n",
    "* images are now 28x28\n",
    "* 10 different digits\n",
    "* 50k samples"
   ]
  },
  {
   "cell_type": "code",
   "execution_count": 1,
   "metadata": {
    "collapsed": true
   },
   "outputs": [],
   "source": [
    "import numpy as np\n",
    "import theano\n",
    "import theano.tensor as T\n",
    "import matplotlib.pyplot as plt\n",
    "%matplotlib inline"
   ]
  },
  {
   "cell_type": "code",
   "execution_count": 2,
   "metadata": {},
   "outputs": [
    {
     "name": "stdout",
     "output_type": "stream",
     "text": [
      "(50000, 1, 28, 28) (50000,)\n"
     ]
    }
   ],
   "source": [
    "from mnist import load_dataset\n",
    "X_train,y_train,X_val,y_val,X_test,y_test = load_dataset()\n",
    "print(X_train.shape,y_train.shape)"
   ]
  },
  {
   "cell_type": "code",
   "execution_count": 3,
   "metadata": {
    "collapsed": true
   },
   "outputs": [],
   "source": [
    "input_X = T.tensor4(\"X\")\n",
    "\n",
    "#input dimention (None means \"Arbitrary\" and only works at  the first axes [samples])\n",
    "input_shape = [None,1,28,28]\n",
    "\n",
    "target_y = T.vector(\"target Y integer\",dtype='int32')"
   ]
  },
  {
   "cell_type": "markdown",
   "metadata": {},
   "source": [
    "Defining network architecture"
   ]
  },
  {
   "cell_type": "code",
   "execution_count": 5,
   "metadata": {
    "collapsed": true
   },
   "outputs": [],
   "source": [
    "import lasagne\n",
    "from lasagne.layers import *\n",
    "\n",
    "#Input layer (auxilary)\n",
    "l1 = InputLayer(shape = input_shape,input_var=input_X)\n",
    "\n",
    "l2 = Conv2DLayer(l1,3,3,nonlinearity=lasagne.nonlinearities.elu)\n",
    "l3 = MaxPool2DLayer(l2, pool_size=3)\n",
    "l4 = Conv2DLayer(l3,6,3,nonlinearity=lasagne.nonlinearities.rectify)\n",
    "l5 = MaxPool2DLayer(l4, pool_size=3)\n",
    "l6 = DenseLayer(l3,num_units=50,nonlinearity = lasagne.nonlinearities.sigmoid)\n",
    "l_out = DenseLayer(l6,num_units = 10,nonlinearity=lasagne.nonlinearities.softmax)\n"
   ]
  },
  {
   "cell_type": "code",
   "execution_count": 6,
   "metadata": {
    "collapsed": true
   },
   "outputs": [],
   "source": [
    "#network prediction (theano-transformation)\n",
    "y_predicted = lasagne.layers.get_output(l_out)"
   ]
  },
  {
   "cell_type": "code",
   "execution_count": 7,
   "metadata": {},
   "outputs": [
    {
     "name": "stdout",
     "output_type": "stream",
     "text": [
      "[W, b, W, b, W, b]\n"
     ]
    }
   ],
   "source": [
    "#all network weights (shared variables)\n",
    "all_weights = lasagne.layers.get_all_params(l_out)\n",
    "print(all_weights)"
   ]
  },
  {
   "cell_type": "markdown",
   "metadata": {},
   "source": [
    "### Than you could simply\n",
    "* define loss function manually\n",
    "* compute error gradient over all weights\n",
    "* define updates\n",
    "* But that's a whole lot of work and life's short\n",
    "  * not to mention life's too short to wait for SGD to converge\n",
    "\n",
    "Instead, we shall use Lasagne builtins"
   ]
  },
  {
   "cell_type": "code",
   "execution_count": 8,
   "metadata": {
    "collapsed": true
   },
   "outputs": [],
   "source": [
    "#Mean categorical crossentropy as a loss function - similar to logistic loss but for multiclass targets\n",
    "loss = lasagne.objectives.categorical_crossentropy(y_predicted,target_y).mean()\n",
    "\n",
    "#prediction accuracy\n",
    "accuracy = lasagne.objectives.categorical_accuracy(y_predicted,target_y).mean()\n",
    "\n",
    "#This function computes gradient AND composes weight updates just like you did earlier\n",
    "updates_sgd = lasagne.updates.sgd(loss, all_weights,learning_rate=0.01)"
   ]
  },
  {
   "cell_type": "code",
   "execution_count": 9,
   "metadata": {
    "collapsed": true
   },
   "outputs": [],
   "source": [
    "#function that computes loss and updates weights\n",
    "train_fun = theano.function([input_X,target_y],[loss,accuracy],updates= updates_sgd)\n",
    "\n",
    "#function that just computes accuracy\n",
    "accuracy_fun = theano.function([input_X,target_y],accuracy)"
   ]
  },
  {
   "cell_type": "markdown",
   "metadata": {},
   "source": [
    "### That's all, now let's train it!\n",
    "* We got a lot of data, so it's recommended that you use SGD\n",
    "* So let's implement a function that splits the training sample into minibatches"
   ]
  },
  {
   "cell_type": "code",
   "execution_count": 10,
   "metadata": {
    "collapsed": true
   },
   "outputs": [],
   "source": [
    "# An auxilary function that returns mini-batches for neural network training\n",
    "\n",
    "#Parameters\n",
    "# inputs - a tensor of images with shape (many, 1, 28, 28), e.g. X_train\n",
    "# outputs - a vector of answers for corresponding images e.g. Y_train\n",
    "#batch_size - a single number - the intended size of each batches\n",
    "\n",
    "def iterate_minibatches(inputs, targets, batchsize):\n",
    "    assert len(inputs) == len(targets)\n",
    "    indices = np.arange(len(inputs))\n",
    "    np.random.shuffle(indices)\n",
    "    for start_idx in range(0, len(inputs) - batchsize + 1, batchsize):\n",
    "        excerpt = indices[start_idx:start_idx + batchsize]\n",
    "        yield inputs[excerpt], targets[excerpt]"
   ]
  },
  {
   "cell_type": "markdown",
   "metadata": {},
   "source": [
    "# Training loop"
   ]
  },
  {
   "cell_type": "code",
   "execution_count": null,
   "metadata": {},
   "outputs": [
    {
     "name": "stdout",
     "output_type": "stream",
     "text": [
      "Epoch 1 of 1000 took 17.744s\n",
      "  training loss (in-iteration):\t\t0.310981\n",
      "  train accuracy:\t\t90.90 %\n",
      "  validation accuracy:\t\t91.90 %\n",
      "Epoch 2 of 1000 took 16.506s\n",
      "  training loss (in-iteration):\t\t0.299636\n",
      "  train accuracy:\t\t91.20 %\n",
      "  validation accuracy:\t\t92.05 %\n",
      "Epoch 3 of 1000 took 16.464s\n",
      "  training loss (in-iteration):\t\t0.289292\n",
      "  train accuracy:\t\t91.57 %\n",
      "  validation accuracy:\t\t92.34 %\n",
      "Epoch 4 of 1000 took 16.546s\n",
      "  training loss (in-iteration):\t\t0.280209\n",
      "  train accuracy:\t\t91.81 %\n",
      "  validation accuracy:\t\t92.55 %\n",
      "Epoch 5 of 1000 took 16.478s\n",
      "  training loss (in-iteration):\t\t0.271922\n",
      "  train accuracy:\t\t92.10 %\n",
      "  validation accuracy:\t\t92.84 %\n",
      "Epoch 6 of 1000 took 18.766s\n",
      "  training loss (in-iteration):\t\t0.264289\n",
      "  train accuracy:\t\t92.36 %\n",
      "  validation accuracy:\t\t92.88 %\n",
      "Epoch 7 of 1000 took 17.897s\n",
      "  training loss (in-iteration):\t\t0.257376\n",
      "  train accuracy:\t\t92.55 %\n",
      "  validation accuracy:\t\t93.07 %\n",
      "Epoch 8 of 1000 took 19.127s\n",
      "  training loss (in-iteration):\t\t0.251092\n",
      "  train accuracy:\t\t92.74 %\n",
      "  validation accuracy:\t\t93.23 %\n",
      "Epoch 9 of 1000 took 20.722s\n",
      "  training loss (in-iteration):\t\t0.244784\n",
      "  train accuracy:\t\t92.94 %\n",
      "  validation accuracy:\t\t93.34 %\n",
      "Epoch 10 of 1000 took 18.754s\n",
      "  training loss (in-iteration):\t\t0.239343\n",
      "  train accuracy:\t\t93.10 %\n",
      "  validation accuracy:\t\t93.53 %\n",
      "Epoch 11 of 1000 took 17.972s\n",
      "  training loss (in-iteration):\t\t0.233925\n",
      "  train accuracy:\t\t93.22 %\n",
      "  validation accuracy:\t\t93.70 %\n",
      "Epoch 12 of 1000 took 18.367s\n",
      "  training loss (in-iteration):\t\t0.228963\n",
      "  train accuracy:\t\t93.35 %\n",
      "  validation accuracy:\t\t93.71 %\n",
      "Epoch 13 of 1000 took 20.200s\n",
      "  training loss (in-iteration):\t\t0.224569\n",
      "  train accuracy:\t\t93.55 %\n",
      "  validation accuracy:\t\t93.77 %\n",
      "Epoch 14 of 1000 took 19.066s\n",
      "  training loss (in-iteration):\t\t0.220116\n",
      "  train accuracy:\t\t93.66 %\n",
      "  validation accuracy:\t\t93.87 %\n",
      "Epoch 15 of 1000 took 19.558s\n",
      "  training loss (in-iteration):\t\t0.216064\n",
      "  train accuracy:\t\t93.76 %\n",
      "  validation accuracy:\t\t94.07 %\n",
      "Epoch 16 of 1000 took 20.003s\n",
      "  training loss (in-iteration):\t\t0.212372\n",
      "  train accuracy:\t\t93.86 %\n",
      "  validation accuracy:\t\t94.14 %\n",
      "Epoch 17 of 1000 took 20.626s\n",
      "  training loss (in-iteration):\t\t0.208862\n",
      "  train accuracy:\t\t93.98 %\n",
      "  validation accuracy:\t\t94.10 %\n",
      "Epoch 18 of 1000 took 18.997s\n",
      "  training loss (in-iteration):\t\t0.205266\n",
      "  train accuracy:\t\t94.06 %\n",
      "  validation accuracy:\t\t94.38 %\n",
      "Epoch 19 of 1000 took 20.557s\n",
      "  training loss (in-iteration):\t\t0.202261\n",
      "  train accuracy:\t\t94.16 %\n",
      "  validation accuracy:\t\t94.41 %\n",
      "Epoch 20 of 1000 took 20.934s\n",
      "  training loss (in-iteration):\t\t0.199227\n",
      "  train accuracy:\t\t94.21 %\n",
      "  validation accuracy:\t\t94.22 %\n",
      "Epoch 21 of 1000 took 18.503s\n",
      "  training loss (in-iteration):\t\t0.195860\n",
      "  train accuracy:\t\t94.39 %\n",
      "  validation accuracy:\t\t94.36 %\n"
     ]
    }
   ],
   "source": [
    "import time\n",
    "\n",
    "num_epochs = 1000 #amount of passes through the data\n",
    "\n",
    "batch_size = 50 #number of samples processed at each function call\n",
    "\n",
    "for epoch in range(num_epochs):\n",
    "    # In each epoch, we do a full pass over the training data:\n",
    "    train_err = 0\n",
    "    train_acc = 0\n",
    "    train_batches = 0\n",
    "    start_time = time.time()\n",
    "    for batch in iterate_minibatches(X_train, y_train,batch_size):\n",
    "        inputs, targets = batch\n",
    "        train_err_batch, train_acc_batch= train_fun(inputs, targets)\n",
    "        train_err += train_err_batch\n",
    "        train_acc += train_acc_batch\n",
    "        train_batches += 1\n",
    "\n",
    "    # And a full pass over the validation data:\n",
    "    val_acc = 0\n",
    "    val_batches = 0\n",
    "    for batch in iterate_minibatches(X_val, y_val, batch_size):\n",
    "        inputs, targets = batch\n",
    "        val_acc += accuracy_fun(inputs, targets)\n",
    "        val_batches += 1\n",
    "\n",
    "    \n",
    "    # Then we print the results for this epoch:\n",
    "    print(\"Epoch {} of {} took {:.3f}s\".format(\n",
    "        epoch + 1, num_epochs, time.time() - start_time))\n",
    "\n",
    "    print(\"  training loss (in-iteration):\\t\\t{:.6f}\".format(train_err / train_batches))\n",
    "    print(\"  train accuracy:\\t\\t{:.2f} %\".format(\n",
    "        train_acc / train_batches * 100))\n",
    "    print(\"  validation accuracy:\\t\\t{:.2f} %\".format(\n",
    "        val_acc / val_batches * 100))"
   ]
  },
  {
   "cell_type": "code",
   "execution_count": null,
   "metadata": {
    "collapsed": true
   },
   "outputs": [],
   "source": [
    "test_acc = 0\n",
    "test_batches = 0\n",
    "for batch in iterate_minibatches(X_test, y_test, 500):\n",
    "    inputs, targets = batch\n",
    "    acc = accuracy_fun(inputs, targets)\n",
    "    test_acc += acc\n",
    "    test_batches += 1\n",
    "print(\"Final results:\")\n",
    "print(\"  test accuracy:\\t\\t{:.2f} %\".format(\n",
    "    test_acc / test_batches * 100))\n",
    "\n",
    "if test_acc / test_batches * 100 > 99:\n",
    "    print (\"Achievement unlocked: 80lvl Warlock!\")\n",
    "else:\n",
    "    print (\"We need more magic!\")"
   ]
  },
  {
   "cell_type": "markdown",
   "metadata": {
    "collapsed": true
   },
   "source": [
    "# Now improve it!\n",
    "\n",
    "* Moar layers!\n",
    "* Moar units!\n",
    "* Different nonlinearities!"
   ]
  },
  {
   "cell_type": "code",
   "execution_count": null,
   "metadata": {
    "collapsed": true
   },
   "outputs": [],
   "source": []
  }
 ],
 "metadata": {
  "kernelspec": {
   "display_name": "Python 3",
   "language": "python",
   "name": "python3"
  },
  "language_info": {
   "codemirror_mode": {
    "name": "ipython",
    "version": 3
   },
   "file_extension": ".py",
   "mimetype": "text/x-python",
   "name": "python",
   "nbconvert_exporter": "python",
   "pygments_lexer": "ipython3",
   "version": "3.5.2"
  }
 },
 "nbformat": 4,
 "nbformat_minor": 1
}
